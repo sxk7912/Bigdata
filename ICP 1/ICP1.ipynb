{
  "nbformat": 4,
  "nbformat_minor": 0,
  "metadata": {
    "colab": {
      "provenance": [],
      "gpuType": "T4"
    },
    "kernelspec": {
      "name": "python3",
      "display_name": "Python 3"
    },
    "language_info": {
      "name": "python"
    },
    "accelerator": "GPU"
  },
  "cells": [
    {
      "cell_type": "code",
      "source": [
        "# Mount Google Drive\n",
        "from google.colab import drive\n",
        "drive.mount('/content/drive')"
      ],
      "metadata": {
        "colab": {
          "base_uri": "https://localhost:8080/"
        },
        "id": "P_D7CvFwppAO",
        "outputId": "75e74466-8820-4867-f2d1-35da3bec2cb8"
      },
      "execution_count": 1,
      "outputs": [
        {
          "output_type": "stream",
          "name": "stdout",
          "text": [
            "Mounted at /content/drive\n"
          ]
        }
      ]
    },
    {
      "cell_type": "code",
      "execution_count": 2,
      "metadata": {
        "colab": {
          "base_uri": "https://localhost:8080/"
        },
        "id": "-4clKpatAw0n",
        "outputId": "5476c311-a47e-44df-84d6-c5fb16a82c9e"
      },
      "outputs": [
        {
          "output_type": "stream",
          "name": "stdout",
          "text": [
            "Enter a string: python\n",
            "Result: htyp\n"
          ]
        }
      ],
      "source": [
        "# Take input from the user\n",
        "input_str = input(\"Enter a string: \")\n",
        "# Delete at least 2 characters\n",
        "modified_str = input_str[:-2]\n",
        "# Reverse the modified string\n",
        "reversed_str = modified_str[::-1]\n",
        "\n",
        "# Print the reversed string\n",
        "print(\"Result:\", reversed_str)"
      ]
    },
    {
      "cell_type": "code",
      "source": [
        "# Take input from the user\n",
        "num1 = float(input(\"Enter the first number: \"))\n",
        "num2 = float(input(\"Enter the second number: \"))\n",
        "\n",
        "# Perform arithmetic operations\n",
        "add = num1 + num2\n",
        "sub = num1 - num2\n",
        "mul = num1 * num2\n",
        "\n",
        "# Ensure non-zero division\n",
        "if num2 != 0:\n",
        "    div = num1 / num2\n",
        "else:\n",
        "    div = \"Cannot divide by zero\"\n",
        "\n",
        "# Print the results\n",
        "print(\"Addition:\", add)\n",
        "print(\"Subtraction:\", sub)\n",
        "print(\"Multiplication:\", mul)\n",
        "print(\"Division:\", div)"
      ],
      "metadata": {
        "colab": {
          "base_uri": "https://localhost:8080/"
        },
        "id": "KkZDkBjQH747",
        "outputId": "7565d7ac-610d-4e9f-fb82-f39010c5b9fa"
      },
      "execution_count": 3,
      "outputs": [
        {
          "output_type": "stream",
          "name": "stdout",
          "text": [
            "Enter the first number: 6\n",
            "Enter the second number: 5\n",
            "Addition: 11.0\n",
            "Subtraction: 1.0\n",
            "Multiplication: 30.0\n",
            "Division: 1.2\n"
          ]
        }
      ]
    },
    {
      "cell_type": "code",
      "source": [
        "# Take input from the user\n",
        "input_sentence = input(\"Enter a sentence: \")\n",
        "\n",
        "# Replace 'python' with 'pythons'\n",
        "output_sentence = input_sentence.replace('python', 'pythons')\n",
        "\n",
        "# Print the modified sentence\n",
        "print(\"Modified sentence:\", output_sentence)\n"
      ],
      "metadata": {
        "colab": {
          "base_uri": "https://localhost:8080/"
        },
        "id": "FS_WacEOLVdI",
        "outputId": "91aea952-8454-412f-8ea1-a171153d15b9"
      },
      "execution_count": 2,
      "outputs": [
        {
          "output_type": "stream",
          "name": "stdout",
          "text": [
            "Enter a sentence: I love playing with python\n",
            "Modified sentence: I love playing with pythons\n"
          ]
        }
      ]
    },
    {
      "cell_type": "code",
      "source": [
        "# Take input from the user\n",
        "cs = float(input(\"Enter the class score: \"))\n",
        "\n",
        "# Determine the letter grade based on the score\n",
        "if cs >= 90:\n",
        "    letter_grade = 'A'\n",
        "elif 80 <= cs < 90:\n",
        "    letter_grade = 'B'\n",
        "elif 70 <= cs < 80:\n",
        "    letter_grade = 'C'\n",
        "elif 60 <= cs < 70:\n",
        "    letter_grade = 'D'\n",
        "else:\n",
        "    letter_grade = 'F'\n",
        "\n",
        "# Print the letter grade\n",
        "print(\"Letter Grade:\", letter_grade)\n"
      ],
      "metadata": {
        "colab": {
          "base_uri": "https://localhost:8080/"
        },
        "id": "FK7TnlzNqadO",
        "outputId": "85e7aafb-1d02-4f2c-afab-1dde6ca5c57b"
      },
      "execution_count": 4,
      "outputs": [
        {
          "output_type": "stream",
          "name": "stdout",
          "text": [
            "Enter the class score: 86\n",
            "Letter Grade: B\n"
          ]
        }
      ]
    }
  ]
}
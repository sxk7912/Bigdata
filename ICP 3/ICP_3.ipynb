{
  "nbformat": 4,
  "nbformat_minor": 0,
  "metadata": {
    "colab": {
      "provenance": []
    },
    "kernelspec": {
      "name": "python3",
      "display_name": "Python 3"
    },
    "language_info": {
      "name": "python"
    }
  },
  "cells": [
    {
      "cell_type": "code",
      "execution_count": 1,
      "metadata": {
        "colab": {
          "base_uri": "https://localhost:8080/"
        },
        "id": "cbujwMD9HEaV",
        "outputId": "eab5c05b-7227-4e73-a9c2-d88a29e8a6f6"
      },
      "outputs": [
        {
          "output_type": "stream",
          "name": "stdout",
          "text": [
            "Array shape: (3, 5)\n",
            "Final Array:\n",
            "[[14  0  5 11  9]\n",
            " [17  0  3  6  7]\n",
            " [10  9  8  0  2]]\n"
          ]
        }
      ],
      "source": [
        "import numpy as np\n",
        "\n",
        "#Creating a vector of size 15 with integers in the range 1-20\n",
        "randomized_vector = np.random.randint(1, 21, size=15)\n",
        "\n",
        "#Reshaping the array to a 3x5 matrix\n",
        "reshape_arr = randomized_vector.reshape(3, 5)\n",
        "\n",
        "#Print the array shape\n",
        "print(\"Array shape:\", reshape_arr.shape)\n",
        "\n",
        "# Replace the maximum value in each row with 0\n",
        "max_indices = np.argmax(reshape_arr, axis=1 )\n",
        "for i, row_index in enumerate(max_indices):\n",
        "    reshape_arr[i, row_index] = 0\n",
        "\n",
        "# Display the final reshaped array with max values replaced by 0\n",
        "print(\"Final Array:\")\n",
        "print(reshape_arr)\n"
      ]
    },
    {
      "cell_type": "code",
      "source": [
        "import numpy as np\n",
        "\n",
        "# Creating a 2-d array of size 4x3 with 4-byte integer elements\n",
        "array_2d = np.empty((4, 3), dtype=np.int32)\n",
        "\n",
        "# Printing the shape of the array\n",
        "print(\"Shape of the array:\", array_2d.shape)\n",
        "\n",
        "# Printing the type of the array (should be <class 'numpy.ndarray'>)\n",
        "print(\"Type of the array:\", type(array_2d))\n",
        "\n",
        "# Print the data type of the array (should be int32)\n",
        "print(\"Data type of the array:\", array_2d.dtype)\n"
      ],
      "metadata": {
        "colab": {
          "base_uri": "https://localhost:8080/"
        },
        "id": "tY0lH8oPJT9V",
        "outputId": "7a13c745-0002-4673-f2da-7ea47c3ac52e"
      },
      "execution_count": 2,
      "outputs": [
        {
          "output_type": "stream",
          "name": "stdout",
          "text": [
            "Shape of the array: (4, 3)\n",
            "Type of the array: <class 'numpy.ndarray'>\n",
            "Data type of the array: int32\n"
          ]
        }
      ]
    },
    {
      "cell_type": "code",
      "source": [
        "import numpy as np\n",
        "\n",
        "# Given array\n",
        "arr = np.array([[0, 1, 2],\n",
        "                [3, 4, 5]])\n",
        "\n",
        "# Calculating the sum of the diagonal elements\n",
        "diag_sum = np.trace(arr)\n",
        "\n",
        "# Printing the sum\n",
        "print(\"Sum of diagonal elements:\", diag_sum)"
      ],
      "metadata": {
        "colab": {
          "base_uri": "https://localhost:8080/"
        },
        "id": "85GNXHIbJhuD",
        "outputId": "df51786f-78b6-4743-b7b5-583173bbd6d3"
      },
      "execution_count": 3,
      "outputs": [
        {
          "output_type": "stream",
          "name": "stdout",
          "text": [
            "Sum of diagonal elements: 4\n"
          ]
        }
      ]
    },
    {
      "cell_type": "code",
      "source": [
        "import numpy as np\n",
        "\n",
        "# array of even numbers between 10 and 70\n",
        "even_numbers = np.arange(10, 71, 2)\n",
        "\n",
        "# array of odd numbers between 10 and 70\n",
        "odd_numbers = np.arange(11, 71, 2)\n",
        "\n",
        "# Combining the even and odd arrays into one\n",
        "combined_array = np.concatenate((even_numbers, odd_numbers))\n",
        "\n",
        "print(\"Combined Array:\")\n",
        "print(combined_array)\n"
      ],
      "metadata": {
        "colab": {
          "base_uri": "https://localhost:8080/"
        },
        "id": "-n37p3rXNh3S",
        "outputId": "a8cbb9f0-e98d-4240-b246-664e2e09cb2a"
      },
      "execution_count": 4,
      "outputs": [
        {
          "output_type": "stream",
          "name": "stdout",
          "text": [
            "Combined Array:\n",
            "[10 12 14 16 18 20 22 24 26 28 30 32 34 36 38 40 42 44 46 48 50 52 54 56\n",
            " 58 60 62 64 66 68 70 11 13 15 17 19 21 23 25 27 29 31 33 35 37 39 41 43\n",
            " 45 47 49 51 53 55 57 59 61 63 65 67 69]\n"
          ]
        }
      ]
    },
    {
      "cell_type": "code",
      "source": [
        "import numpy as np\n",
        "\n",
        "# Create two arrays of the same size\n",
        "array1 = np.array([1, 2, 3])\n",
        "array2 = np.array([4, 5, 6])\n",
        "\n",
        "# Perform element-wise addition, subtraction, and multiplication\n",
        "add_result = array1 + array2\n",
        "sub_result = array1 - array2\n",
        "mul_result = array1 * array2\n",
        "\n",
        "print(\"Element-wise Addition:\", add_result)\n",
        "print(\"Element-wise Subtraction:\", sub_result)\n",
        "print(\"Element-wise Multiplication:\", mul_result)\n"
      ],
      "metadata": {
        "colab": {
          "base_uri": "https://localhost:8080/"
        },
        "id": "40o7v6kBNxb-",
        "outputId": "82599df5-9d2f-41ac-cbb2-21ddd139bd47"
      },
      "execution_count": 5,
      "outputs": [
        {
          "output_type": "stream",
          "name": "stdout",
          "text": [
            "Element-wise Addition: [5 7 9]\n",
            "Element-wise Subtraction: [-3 -3 -3]\n",
            "Element-wise Multiplication: [ 4 10 18]\n"
          ]
        }
      ]
    },
    {
      "cell_type": "code",
      "source": [
        "import numpy as np\n",
        "\n",
        "# Given array\n",
        "array = np.array([[5.54, 3.38, 7.99],\n",
        "                  [3.54, 4.38, 6.99],\n",
        "                  [1.54, 2.39, 9.29]])\n",
        "\n",
        "# Sort by row in ascending order\n",
        "sorted_by_row = np.sort(array, axis=1 )\n",
        "\n",
        "# Sort by column in ascending order\n",
        "sorted_by_column = np.sort(array, axis=0)\n",
        "\n",
        "print(\"Sorted by Row:\")\n",
        "print(sorted_by_row)\n",
        "\n",
        "print(\"Sorted by Column:\")\n",
        "print(sorted_by_column)\n"
      ],
      "metadata": {
        "colab": {
          "base_uri": "https://localhost:8080/"
        },
        "id": "bPJ8KfsZOIdW",
        "outputId": "81f740d1-0398-4720-80d0-f886b8c98b0f"
      },
      "execution_count": 6,
      "outputs": [
        {
          "output_type": "stream",
          "name": "stdout",
          "text": [
            "Sorted by Row:\n",
            "[[3.38 5.54 7.99]\n",
            " [3.54 4.38 6.99]\n",
            " [1.54 2.39 9.29]]\n",
            "Sorted by Column:\n",
            "[[1.54 2.39 6.99]\n",
            " [3.54 3.38 7.99]\n",
            " [5.54 4.38 9.29]]\n"
          ]
        }
      ]
    },
    {
      "cell_type": "code",
      "source": [
        "import numpy as np\n",
        "\n",
        "# Declare the given array with NaN values\n",
        "array = np.array([[ 4, 2, np.nan, 1],\n",
        "                  [11, 12, 14, 9],\n",
        "                  [5, np.nan, 1, np.nan]])\n",
        "\n",
        "# Find missing data (NaN) and return a Boolean output\n",
        "missing_data_mask = np.where(np.isnan(array), True, False)\n",
        "\n",
        "# Print the Boolean output\n",
        "print(\"Missing Data (NaN) Mask:\")\n",
        "print(missing_data_mask)\n",
        "\n"
      ],
      "metadata": {
        "colab": {
          "base_uri": "https://localhost:8080/"
        },
        "id": "PYFEqxbbKARa",
        "outputId": "b91da83e-7f03-4d78-f798-adf6c459cd6b"
      },
      "execution_count": 7,
      "outputs": [
        {
          "output_type": "stream",
          "name": "stdout",
          "text": [
            "Missing Data (NaN) Mask:\n",
            "[[False False  True False]\n",
            " [False False False False]\n",
            " [False  True False  True]]\n"
          ]
        }
      ]
    }
  ]
}